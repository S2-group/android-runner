{
 "cells": [
  {
   "cell_type": "markdown",
   "metadata": {},
   "source": [
    "# Simple Analysis of Experimental Data"
   ]
  },
  {
   "cell_type": "code",
   "execution_count": 86,
   "metadata": {},
   "outputs": [],
   "source": [
    "import os, re\n",
    "import pandas, numpy\n",
    "from matplotlib import pyplot"
   ]
  },
  {
   "cell_type": "code",
   "execution_count": 87,
   "metadata": {},
   "outputs": [],
   "source": [
    "# globals"
   ]
  },
  {
   "cell_type": "markdown",
   "metadata": {},
   "source": [
    "## Basic Information of Each Experiment"
   ]
  },
  {
   "cell_type": "code",
   "execution_count": 88,
   "metadata": {},
   "outputs": [
    {
     "name": "stdout",
     "output_type": "stream",
     "text": [
      "<trial1_chrome_off_idle.csv>\n",
      "count    30.000000\n",
      "mean     46.231307\n",
      "std       2.426237\n",
      "min      35.072987\n",
      "25%      45.928497\n",
      "50%      46.741965\n",
      "75%      47.259847\n",
      "max      49.779550\n",
      "Name: Energy trapz (J), dtype: float64\n",
      "\n",
      "<trial2_chrome_off_low_even.csv>\n",
      "count    30.000000\n",
      "mean     48.062190\n",
      "std       2.258378\n",
      "min      40.902735\n",
      "25%      46.846682\n",
      "50%      47.755688\n",
      "75%      49.694906\n",
      "max      52.517839\n",
      "Name: Energy trapz (J), dtype: float64\n",
      "\n",
      "<trial3_chrome_of_low_burst.csv>\n",
      "count    30.000000\n",
      "mean     46.470891\n",
      "std       3.662616\n",
      "min      31.836826\n",
      "25%      46.146616\n",
      "50%      47.540395\n",
      "75%      48.074592\n",
      "max      49.775571\n",
      "Name: Energy trapz (J), dtype: float64\n",
      "\n",
      "<trial4_chrome_off_high_even.csv>\n",
      "count    30.000000\n",
      "mean     57.632000\n",
      "std       3.423639\n",
      "min      51.963999\n",
      "25%      55.341675\n",
      "50%      57.469885\n",
      "75%      59.927178\n",
      "max      66.669379\n",
      "Name: Energy trapz (J), dtype: float64\n",
      "\n",
      "<trial5_chrome_off_high_burst.csv>\n",
      "count    30.000000\n",
      "mean     55.722850\n",
      "std       2.122315\n",
      "min      51.884041\n",
      "25%      54.424580\n",
      "50%      55.193935\n",
      "75%      56.616161\n",
      "max      62.776967\n",
      "Name: Energy trapz (J), dtype: float64\n",
      "\n",
      "<trial6_chrome_on_idle.csv>\n",
      "count    30.000000\n",
      "mean     48.189717\n",
      "std       2.522297\n",
      "min      37.548153\n",
      "25%      47.311992\n",
      "50%      48.392537\n",
      "75%      49.191719\n",
      "max      53.775582\n",
      "Name: Energy trapz (J), dtype: float64\n",
      "\n",
      "<trial7_chrome_on_low_even.csv>\n",
      "count    30.000000\n",
      "mean     58.437859\n",
      "std       2.805958\n",
      "min      48.695347\n",
      "25%      57.336675\n",
      "50%      58.346660\n",
      "75%      59.243773\n",
      "max      66.420982\n",
      "Name: Energy trapz (J), dtype: float64\n",
      "\n",
      "<trial8_chrome_on_low_burst.csv>\n",
      "count    30.000000\n",
      "mean     49.843350\n",
      "std       3.662060\n",
      "min      44.956803\n",
      "25%      47.265066\n",
      "50%      49.259037\n",
      "75%      51.661101\n",
      "max      62.570413\n",
      "Name: Energy trapz (J), dtype: float64\n",
      "\n",
      "<trial9_chrome_on_high_even.csv>\n",
      "count    30.000000\n",
      "mean     94.305340\n",
      "std       2.917315\n",
      "min      89.148392\n",
      "25%      93.149923\n",
      "50%      94.364058\n",
      "75%      95.955611\n",
      "max      99.258993\n",
      "Name: Energy trapz (J), dtype: float64\n",
      "\n",
      "<trial9_chrome_on_high_even_2.csv>\n",
      "count     30.000000\n",
      "mean      97.039512\n",
      "std        3.055706\n",
      "min       88.414902\n",
      "25%       95.385195\n",
      "50%       97.402010\n",
      "75%       98.997388\n",
      "max      102.449787\n",
      "Name: Energy trapz (J), dtype: float64\n",
      "\n",
      "<trial10_chrome_on_high_burst.csv>\n",
      "count    30.000000\n",
      "mean     51.972236\n",
      "std       2.068648\n",
      "min      48.801221\n",
      "25%      50.829314\n",
      "50%      51.462484\n",
      "75%      53.020023\n",
      "max      57.473222\n",
      "Name: Energy trapz (J), dtype: float64\n",
      "\n"
     ]
    }
   ],
   "source": [
    "root: str = '../00-data'\n",
    "file: str = os.listdir(root)\n",
    "filenamesegs: list[list[str]] = []\n",
    "F: list[pandas.DataFrame] = []\n",
    "for f in file:\n",
    "    F.append(pandas.read_csv(os.path.join(root, f)))\n",
    "    filenameseg: list[str] = os.path.splitext(f)[0].split('_')\n",
    "    F[-1]['trial number'] = filenameseg[0]\n",
    "    F[-1]['browser'] = filenameseg[1]\n",
    "    F[-1]['push enabled'] = filenameseg[2]\n",
    "    F[-1]['push freq'] = filenameseg[3]\n",
    "    if len(filenameseg) > 4:\n",
    "        F[-1]['push type'] = filenameseg[4]\n",
    "    else:\n",
    "        F[-1]['push type'] = ''\n",
    "    filenamesegs.append(filenameseg)\n",
    "F.sort(key=lambda F: int(re.search(r'\\d+', F['trial number'].iat[0])[0]))\n",
    "file.sort(key=lambda file: int(re.search(r'\\d+', file)[0]))\n",
    "filenamesegs.sort(key=lambda filenameseg: int(re.search(r'\\d+', filenameseg[0])[0]))\n",
    "for i in range(len(file)):\n",
    "    print(f'<{file[i]}>')\n",
    "    print(F[i]['Energy trapz (J)'].describe())\n",
    "    print()"
   ]
  },
  {
   "cell_type": "code",
   "execution_count": 89,
   "metadata": {},
   "outputs": [
    {
     "data": {
      "image/png": "[encoded data removed]",
      "text/plain": [
       "<Figure size 640x480 with 1 Axes>"
      ]
     },
     "metadata": {},
     "output_type": "display_data"
    }
   ],
   "source": [
    "merged_energy_data: list[pandas.Series] = []\n",
    "for f in F:\n",
    "    merged_energy_data.append(f['Energy trapz (J)'])\n",
    "\n",
    "fig, ax = pyplot.subplots()\n",
    "ax.set_title('Energy Consumption for Trials')\n",
    "ax.boxplot(merged_energy_data)\n",
    "ax.set_xlabel('Trial')\n",
    "ax.set_ylabel('Energy trapz (J)')\n",
    "xticklabels: list[str] = []\n",
    "for filenameseg in filenamesegs:\n",
    "    xticklabels.append(re.search(r'\\d+', filenameseg[0])[0])\n",
    "ax.set_xticklabels(xticklabels)\n",
    "pyplot.show()"
   ]
  }
 ],
 "metadata": {
  "kernelspec": {
   "display_name": ".venv",
   "language": "python",
   "name": "python3"
  },
  "language_info": {
   "codemirror_mode": {
    "name": "ipython",
    "version": 3
   },
   "file_extension": ".py",
   "mimetype": "text/x-python",
   "name": "python",
   "nbconvert_exporter": "python",
   "pygments_lexer": "ipython3",
   "version": "3.12.0"
  }
 },
 "nbformat": 4,
 "nbformat_minor": 2
}
