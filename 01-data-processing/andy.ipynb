{
 "cells": [
  {
   "cell_type": "markdown",
   "metadata": {},
   "source": [
    "# Simple Analysis of Experimental Data"
   ]
  },
  {
   "cell_type": "code",
   "execution_count": 2,
   "metadata": {},
   "outputs": [],
   "source": [
    "import os\n",
    "import pandas, numpy, matplotlib.pyplot"
   ]
  },
  {
   "cell_type": "code",
   "execution_count": 3,
   "metadata": {},
   "outputs": [
    {
     "data": {
      "text/plain": [
       "'d:\\\\UserData\\\\repos\\\\_ECLearning\\\\green-lab-android-runner-ReplicationPackage\\\\01-data-processing'"
      ]
     },
     "execution_count": 3,
     "metadata": {},
     "output_type": "execute_result"
    }
   ],
   "source": [
    "os.getcwd()"
   ]
  },
  {
   "cell_type": "code",
   "execution_count": 20,
   "metadata": {},
   "outputs": [
    {
     "name": "stdout",
     "output_type": "stream",
     "text": [
      "['trial1_chrome_off_idle.csv', 'trial2_chrome_off_low_even.csv', 'trial3_chrome_of_low_burst.csv', 'trial4_chrome_off_high_even.csv', 'trial5_chrome_off_high_burst.csv', 'trial7_chrome_on_low_even.csv']\n"
     ]
    }
   ],
   "source": [
    "root = '../00-data'\n",
    "files = os.listdir(root)\n",
    "F = []\n",
    "for file in files:\n",
    "    F.append(pandas.read_csv(os.path.join(root, file)))\n",
    "    filenameseg = os.path.splitext(file)[0].split('_')"
   ]
  }
 ],
 "metadata": {
  "kernelspec": {
   "display_name": ".venv",
   "language": "python",
   "name": "python3"
  },
  "language_info": {
   "codemirror_mode": {
    "name": "ipython",
    "version": 3
   },
   "file_extension": ".py",
   "mimetype": "text/x-python",
   "name": "python",
   "nbconvert_exporter": "python",
   "pygments_lexer": "ipython3",
   "version": "3.12.0"
  }
 },
 "nbformat": 4,
 "nbformat_minor": 2
}
