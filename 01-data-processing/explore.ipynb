{
 "cells": [
  {
   "cell_type": "markdown",
   "metadata": {},
   "source": [
    "# Data Exploration"
   ]
  },
  {
   "cell_type": "markdown",
   "metadata": {},
   "source": [
    "## Preparation\n",
    "Add the following columns to the data:\n",
    "- trial_nr\n",
    "- notification_status\n",
    "- browser\n",
    "- frequency\n",
    "- distribution"
   ]
  },
  {
   "cell_type": "code",
   "execution_count": 19,
   "metadata": {
    "ExecuteTime": {
     "start_time": "2023-10-10T09:37:02.855587Z",
     "end_time": "2023-10-10T09:37:02.858443Z"
    }
   },
   "outputs": [],
   "source": [
    "import pandas as pd\n",
    "import numpy as np\n",
    "import matplotlib.pyplot as plt\n",
    "import os"
   ]
  },
  {
   "cell_type": "code",
   "execution_count": 20,
   "metadata": {
    "ExecuteTime": {
     "start_time": "2023-10-10T09:37:05.556796Z",
     "end_time": "2023-10-10T09:37:05.561071Z"
    }
   },
   "outputs": [
    {
     "name": "stdout",
     "output_type": "stream",
     "text": [
      "['trial1_chrome_off_idle.csv', 'trial2_chrome_off_low_even.csv', 'trial3_chrome_of_low_burst.csv', 'trial4_chrome_off_high_even.csv', 'trial5_chrome_off_high_burst.csv', 'trial6_chrome_on_idle.csv', 'trial7_chrome_on_low_even.csv', 'trial8_chrome_on_low_burst.csv', 'trial9_chrome_on_high_even.csv', 'trial10_chrome_on_high_burst.csv']\n"
     ]
    }
   ],
   "source": [
    "folder_path = '../00-data'\n",
    "file_list = os.listdir(folder_path)\n",
    "file_list = [file for file in file_list if file.endswith('.csv')]\n",
    "sorted_files = sorted(file_list, key=lambda x: int(x.split('trial')[1].split('_')[0]))\n",
    "print(sorted_files)"
   ]
  },
  {
   "cell_type": "markdown",
   "metadata": {},
   "source": [
    "Combine the 20 files into one data frame."
   ]
  },
  {
   "cell_type": "code",
   "execution_count": 21,
   "metadata": {
    "ExecuteTime": {
     "start_time": "2023-10-10T09:37:31.837256Z",
     "end_time": "2023-10-10T09:37:31.867147Z"
    }
   },
   "outputs": [
    {
     "data": {
      "text/plain": "          device             subject  run  EXTRA_VOLTAGE  \\\n0  pixel5g-wifid  com-android-chrome    0         4320.0   \n1  pixel5g-wifid  com-android-chrome    1         4320.0   \n2  pixel5g-wifid  com-android-chrome    2         4320.0   \n3  pixel5g-wifid  com-android-chrome    3         4320.0   \n4  pixel5g-wifid  com-android-chrome    4         4320.0   \n\n   BATTERY_PROPERTY_CURRENT_NOW  Timestamp  Energy trapz (J)  \\\n0                 -89602.502339  59.982198         46.088980   \n1                 -91728.621723  59.996301         47.109575   \n2                 -91029.313377  59.898820         46.748119   \n3                 -87688.270093  59.934152         44.908934   \n4                 -91437.152622  59.991726         47.022149   \n\n   Energy simple (J)  Avg power (W) trail_nr browser notification_status  \\\n0          46.598190       0.387083   trial1  chrome                 off   \n1          47.677338       0.396268   trial1  chrome                 off   \n2          47.331558       0.393247   trial1  chrome                 off   \n3          45.596624       0.378813   trial1  chrome                 off   \n4          47.549938       0.395008   trial1  chrome                 off   \n\n  frequency  distribution  \n0      idle           NaN  \n1      idle           NaN  \n2      idle           NaN  \n3      idle           NaN  \n4      idle           NaN  ",
      "text/html": "<div>\n<style scoped>\n    .dataframe tbody tr th:only-of-type {\n        vertical-align: middle;\n    }\n\n    .dataframe tbody tr th {\n        vertical-align: top;\n    }\n\n    .dataframe thead th {\n        text-align: right;\n    }\n</style>\n<table border=\"1\" class=\"dataframe\">\n  <thead>\n    <tr style=\"text-align: right;\">\n      <th></th>\n      <th>device</th>\n      <th>subject</th>\n      <th>run</th>\n      <th>EXTRA_VOLTAGE</th>\n      <th>BATTERY_PROPERTY_CURRENT_NOW</th>\n      <th>Timestamp</th>\n      <th>Energy trapz (J)</th>\n      <th>Energy simple (J)</th>\n      <th>Avg power (W)</th>\n      <th>trail_nr</th>\n      <th>browser</th>\n      <th>notification_status</th>\n      <th>frequency</th>\n      <th>distribution</th>\n    </tr>\n  </thead>\n  <tbody>\n    <tr>\n      <th>0</th>\n      <td>pixel5g-wifid</td>\n      <td>com-android-chrome</td>\n      <td>0</td>\n      <td>4320.0</td>\n      <td>-89602.502339</td>\n      <td>59.982198</td>\n      <td>46.088980</td>\n      <td>46.598190</td>\n      <td>0.387083</td>\n      <td>trial1</td>\n      <td>chrome</td>\n      <td>off</td>\n      <td>idle</td>\n      <td>NaN</td>\n    </tr>\n    <tr>\n      <th>1</th>\n      <td>pixel5g-wifid</td>\n      <td>com-android-chrome</td>\n      <td>1</td>\n      <td>4320.0</td>\n      <td>-91728.621723</td>\n      <td>59.996301</td>\n      <td>47.109575</td>\n      <td>47.677338</td>\n      <td>0.396268</td>\n      <td>trial1</td>\n      <td>chrome</td>\n      <td>off</td>\n      <td>idle</td>\n      <td>NaN</td>\n    </tr>\n    <tr>\n      <th>2</th>\n      <td>pixel5g-wifid</td>\n      <td>com-android-chrome</td>\n      <td>2</td>\n      <td>4320.0</td>\n      <td>-91029.313377</td>\n      <td>59.898820</td>\n      <td>46.748119</td>\n      <td>47.331558</td>\n      <td>0.393247</td>\n      <td>trial1</td>\n      <td>chrome</td>\n      <td>off</td>\n      <td>idle</td>\n      <td>NaN</td>\n    </tr>\n    <tr>\n      <th>3</th>\n      <td>pixel5g-wifid</td>\n      <td>com-android-chrome</td>\n      <td>3</td>\n      <td>4320.0</td>\n      <td>-87688.270093</td>\n      <td>59.934152</td>\n      <td>44.908934</td>\n      <td>45.596624</td>\n      <td>0.378813</td>\n      <td>trial1</td>\n      <td>chrome</td>\n      <td>off</td>\n      <td>idle</td>\n      <td>NaN</td>\n    </tr>\n    <tr>\n      <th>4</th>\n      <td>pixel5g-wifid</td>\n      <td>com-android-chrome</td>\n      <td>4</td>\n      <td>4320.0</td>\n      <td>-91437.152622</td>\n      <td>59.991726</td>\n      <td>47.022149</td>\n      <td>47.549938</td>\n      <td>0.395008</td>\n      <td>trial1</td>\n      <td>chrome</td>\n      <td>off</td>\n      <td>idle</td>\n      <td>NaN</td>\n    </tr>\n  </tbody>\n</table>\n</div>"
     },
     "execution_count": 21,
     "metadata": {},
     "output_type": "execute_result"
    }
   ],
   "source": [
    "for file in sorted_files:\n",
    "    file_path = os.path.join(folder_path, file)\n",
    "    df = pd.read_csv(file_path)\n",
    "    filename = file.split('.')[0]\n",
    "    df['trail_nr'] = filename.split('_')[0]\n",
    "    df['browser'] = filename.split('_')[1]\n",
    "    df['notification_status'] = filename.split('_')[2]\n",
    "    df['frequency'] = filename.split('_')[3]\n",
    "    if len(filename.split('_')) == 5:\n",
    "        df['distribution'] = filename.split('_')[4]\n",
    "    else:\n",
    "        df['distribution'] = ''\n",
    "    df.to_csv(file_path, index=False)\n",
    "# show the first 5 rows of the first csv file\n",
    "df = pd.read_csv('../00-data/trial1_chrome_off_idle.csv')\n",
    "df.head()# df = ..."
   ]
  },
  {
   "cell_type": "code",
   "execution_count": 22,
   "outputs": [],
   "source": [
    "# this step is to combine all the csv files into one csv file and export it\n",
    "dfs = []\n",
    "for file in sorted_files:\n",
    "    file_path = os.path.join(folder_path, file)\n",
    "    df = pd.read_csv(file_path)\n",
    "    dfs.append(df)\n",
    "combined_df = pd.concat(dfs)\n",
    "combined_df.to_csv('combined.csv', index=False)"
   ],
   "metadata": {
    "collapsed": false,
    "ExecuteTime": {
     "start_time": "2023-10-10T09:37:41.960323Z",
     "end_time": "2023-10-10T09:37:41.976339Z"
    }
   }
  },
  {
   "cell_type": "markdown",
   "metadata": {},
   "source": [
    "## Summary of Data"
   ]
  },
  {
   "cell_type": "markdown",
   "metadata": {},
   "source": [
    "- summary\n",
    "- SD, Mean, Median, Min, Max"
   ]
  },
  {
   "cell_type": "code",
   "execution_count": 23,
   "metadata": {
    "ExecuteTime": {
     "start_time": "2023-10-10T09:37:47.808674Z",
     "end_time": "2023-10-10T09:37:47.832010Z"
    }
   },
   "outputs": [
    {
     "name": "stdout",
     "output_type": "stream",
     "text": [
      "\n",
      " This is the summary of file:  trial1_chrome_off_idle.csv\n",
      "count    30.000000\n",
      "mean     46.231307\n",
      "std       2.426237\n",
      "min      35.072987\n",
      "25%      45.928497\n",
      "50%      46.741965\n",
      "75%      47.259847\n",
      "max      49.779550\n",
      "Name: Energy trapz (J), dtype: float64\n",
      "\n",
      " This is the summary of file:  trial2_chrome_off_low_even.csv\n",
      "count    30.000000\n",
      "mean     48.062190\n",
      "std       2.258378\n",
      "min      40.902735\n",
      "25%      46.846682\n",
      "50%      47.755688\n",
      "75%      49.694906\n",
      "max      52.517839\n",
      "Name: Energy trapz (J), dtype: float64\n",
      "\n",
      " This is the summary of file:  trial3_chrome_of_low_burst.csv\n",
      "count    30.000000\n",
      "mean     46.470891\n",
      "std       3.662616\n",
      "min      31.836826\n",
      "25%      46.146616\n",
      "50%      47.540395\n",
      "75%      48.074592\n",
      "max      49.775571\n",
      "Name: Energy trapz (J), dtype: float64\n",
      "\n",
      " This is the summary of file:  trial4_chrome_off_high_even.csv\n",
      "count    30.000000\n",
      "mean     57.632000\n",
      "std       3.423639\n",
      "min      51.963999\n",
      "25%      55.341675\n",
      "50%      57.469885\n",
      "75%      59.927178\n",
      "max      66.669379\n",
      "Name: Energy trapz (J), dtype: float64\n",
      "\n",
      " This is the summary of file:  trial5_chrome_off_high_burst.csv\n",
      "count    30.000000\n",
      "mean     55.722850\n",
      "std       2.122315\n",
      "min      51.884041\n",
      "25%      54.424580\n",
      "50%      55.193935\n",
      "75%      56.616161\n",
      "max      62.776967\n",
      "Name: Energy trapz (J), dtype: float64\n",
      "\n",
      " This is the summary of file:  trial6_chrome_on_idle.csv\n",
      "count    30.000000\n",
      "mean     48.189717\n",
      "std       2.522297\n",
      "min      37.548153\n",
      "25%      47.311992\n",
      "50%      48.392537\n",
      "75%      49.191719\n",
      "max      53.775582\n",
      "Name: Energy trapz (J), dtype: float64\n",
      "\n",
      " This is the summary of file:  trial7_chrome_on_low_even.csv\n",
      "count    30.000000\n",
      "mean     58.437859\n",
      "std       2.805958\n",
      "min      48.695347\n",
      "25%      57.336675\n",
      "50%      58.346660\n",
      "75%      59.243773\n",
      "max      66.420982\n",
      "Name: Energy trapz (J), dtype: float64\n",
      "\n",
      " This is the summary of file:  trial8_chrome_on_low_burst.csv\n",
      "count    30.000000\n",
      "mean     49.843350\n",
      "std       3.662060\n",
      "min      44.956803\n",
      "25%      47.265066\n",
      "50%      49.259037\n",
      "75%      51.661101\n",
      "max      62.570413\n",
      "Name: Energy trapz (J), dtype: float64\n",
      "\n",
      " This is the summary of file:  trial9_chrome_on_high_even.csv\n",
      "count    30.000000\n",
      "mean     94.305340\n",
      "std       2.917315\n",
      "min      89.148392\n",
      "25%      93.149923\n",
      "50%      94.364058\n",
      "75%      95.955611\n",
      "max      99.258993\n",
      "Name: Energy trapz (J), dtype: float64\n",
      "\n",
      " This is the summary of file:  trial10_chrome_on_high_burst.csv\n",
      "count    30.000000\n",
      "mean     51.972236\n",
      "std       2.068648\n",
      "min      48.801221\n",
      "25%      50.829314\n",
      "50%      51.462484\n",
      "75%      53.020023\n",
      "max      57.473222\n",
      "Name: Energy trapz (J), dtype: float64\n"
     ]
    }
   ],
   "source": [
    "#summary each file in the file_list\n",
    "data= []\n",
    "describe_result = []\n",
    "for file in sorted_files:\n",
    "    file_path = os.path.join(folder_path, file)\n",
    "    df = pd.read_csv(file_path)\n",
    "    data.append(df['Energy trapz (J)'])\n",
    "    print(\"\\n This is the summary of file: \", file)\n",
    "    print(df['Energy trapz (J)'].describe())"
   ]
  },
  {
   "cell_type": "code",
   "execution_count": 24,
   "metadata": {
    "ExecuteTime": {
     "start_time": "2023-10-10T09:38:04.104383Z",
     "end_time": "2023-10-10T09:38:04.204218Z"
    }
   },
   "outputs": [
    {
     "data": {
      "text/plain": "<Figure size 640x480 with 1 Axes>",
      "image/png": "[encoded data removed]"
     },
     "metadata": {},
     "output_type": "display_data"
    }
   ],
   "source": [
    "#data = [ df_1['Energy trapz (J)'], df_2['Energy trapz (J)'], df_7['Energy trapz (J)']]\n",
    "fig, ax = plt.subplots()\n",
    "ax.boxplot(data)\n",
    "xticklabels = []\n",
    "for file in sorted_files:\n",
    "    xticklabels.append(file.split('_')[0][5:])\n",
    "ax.set_xticklabels(xticklabels)\n",
    "ax.set_ylabel('Energy (J)')\n",
    "ax.set_xlabel('Trial')\n",
    "ax.set_title('Energy Consumption for Trials')\n",
    "plt.show()"
   ]
  },
  {
   "cell_type": "markdown",
   "metadata": {},
   "source": [
    "## Clean Data"
   ]
  },
  {
   "cell_type": "markdown",
   "metadata": {},
   "source": [
    "Remove outliers? "
   ]
  }
 ],
 "metadata": {
  "kernelspec": {
   "display_name": "Python 3",
   "language": "python",
   "name": "python3"
  },
  "language_info": {
   "codemirror_mode": {
    "name": "ipython",
    "version": 3
   },
   "file_extension": ".py",
   "mimetype": "text/x-python",
   "name": "python",
   "nbconvert_exporter": "python",
   "pygments_lexer": "ipython3",
   "version": "3.9.6"
  }
 },
 "nbformat": 4,
 "nbformat_minor": 2
}
